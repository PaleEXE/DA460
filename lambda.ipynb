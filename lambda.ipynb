{
 "cells": [
  {
   "metadata": {},
   "cell_type": "markdown",
   "source": [
    "# Python Lambda Functions\n",
    "\n",
    "## Introduction\n",
    "\n",
    "Lambda functions in Python are anonymous functions (functions without a name) defined using the `lambda` keyword. They are often used for small, throwaway functions that don’t require a full function definition.\n",
    "\n",
    "## Syntax\n",
    "\n",
    "```python\n",
    "lambda arguments: expression\n",
    "```"
   ],
   "id": "a78faff556e5be96"
  },
  {
   "metadata": {
    "ExecuteTime": {
     "end_time": "2024-11-28T11:16:50.816448Z",
     "start_time": "2024-11-28T11:16:50.811594Z"
    }
   },
   "cell_type": "code",
   "source": [
    "def g(x):\n",
    "    return x + 5\n",
    "\n",
    "\n",
    "f = lambda x: x + 5\n",
    "\n",
    "print('def:', f(1))\n",
    "print('lambda:', g(1))"
   ],
   "id": "f12d4632de9a29d5",
   "outputs": [
    {
     "name": "stdout",
     "output_type": "stream",
     "text": [
      "def: 6\n",
      "lambda: 6\n"
     ]
    }
   ],
   "execution_count": 19
  },
  {
   "metadata": {
    "ExecuteTime": {
     "end_time": "2024-11-28T11:16:50.893082Z",
     "start_time": "2024-11-28T11:16:50.886515Z"
    }
   },
   "cell_type": "code",
   "source": "(lambda x: x + 5)(1)",
   "id": "c0765829c87cb8ed",
   "outputs": [
    {
     "data": {
      "text/plain": [
       "6"
      ]
     },
     "execution_count": 20,
     "metadata": {},
     "output_type": "execute_result"
    }
   ],
   "execution_count": 20
  },
  {
   "metadata": {},
   "cell_type": "markdown",
   "source": [
    "## Explanation: Environment Capturing in Lambda Functions\n",
    "\n",
    "In Python, **lambda functions** can capture variables from their surrounding environment (also known as a **closure**). This allows the lambda function to use variables that are not passed as arguments but are defined in the same scope where the lambda is created."
   ],
   "id": "41e3f6a1e2e54aff"
  },
  {
   "metadata": {
    "ExecuteTime": {
     "end_time": "2024-11-28T11:16:50.899615Z",
     "start_time": "2024-11-28T11:16:50.895092Z"
    }
   },
   "cell_type": "code",
   "source": [
    "num = 7\n",
    "f = lambda x: x * num\n",
    "print(f(2))"
   ],
   "id": "86ff016a3a3185d3",
   "outputs": [
    {
     "name": "stdout",
     "output_type": "stream",
     "text": [
      "14\n"
     ]
    }
   ],
   "execution_count": 21
  },
  {
   "metadata": {
    "ExecuteTime": {
     "end_time": "2024-11-28T11:16:50.912664Z",
     "start_time": "2024-11-28T11:16:50.907157Z"
    }
   },
   "cell_type": "code",
   "source": [
    "vowel = \"aoiue\"\n",
    "is_vowel = lambda x: x.lower() in vowel\n",
    "\n",
    "print(is_vowel('a'))\n",
    "print(is_vowel('g'))\n",
    "print(is_vowel('m'))\n",
    "print(is_vowel('I'))"
   ],
   "id": "db7f1ed927e9ab85",
   "outputs": [
    {
     "name": "stdout",
     "output_type": "stream",
     "text": [
      "True\n",
      "False\n",
      "False\n",
      "True\n"
     ]
    }
   ],
   "execution_count": 22
  },
  {
   "metadata": {},
   "cell_type": "markdown",
   "source": [
    "## MapReduce Approach and Functional Programming Principles\n",
    "\n",
    "We know from chapter 2 in DA460 that **MapReduce** approach, widely used for processing and generating large datasets, is based on functional programming principles. It is implemented in programming languages like: Haskell, Rust, and Python. The core of the MapReduce approach is built upon three fundamental principles:\n",
    "\n",
    "### 1. **Immutability**\n",
    "\n",
    "In functional programming, data structures are immutable, meaning they cannot be changed after creation. In the MapReduce model, immutability ensures that once data is processed, it remains unchanged. This makes the computation predictable and easier to debug, as no side effects occur during the data transformation process.\n",
    "\n",
    "### 2. **Higher-Order Functions**\n",
    "\n",
    "Higher-order functions are functions that can take other functions as arguments or return functions as results. In the MapReduce approach:\n",
    "- The **Map** function applies a transformation (function) to each element of the input data.\n",
    "- The **Reduce** function aggregates the results of the map operation using another function.\n",
    "\n",
    "Both **Map** and **Reduce** are higher-order functions because they take functions as input, allowing for dynamic and reusable behavior in data processing.\n",
    "\n",
    "### 3. **Lazy Evaluation**\n",
    "\n",
    "Lazy evaluation is a technique where expressions are not evaluated until their values are actually needed. In the context of MapReduce:\n",
    "- The **Map** step can process data lazily, meaning the transformation happens only when required.\n",
    "- The **Reduce** step can aggregate results incrementally without fully evaluating intermediate results.\n",
    "\n",
    "Lazy evaluation optimizes performance by avoiding unnecessary computations, especially when dealing with large datasets, and it ensures that only the required portions of data are processed.\n",
    "\n",
    "---\n",
    "\n",
    "### Summary\n",
    "\n",
    "The MapReduce approach in functional programming languages like Haskell, Rust, and Python leverages three core principles: immutability, higher-order functions, and lazy evaluation. These principles enable scalable, modular, and efficient data processing in distributed systems.\n"
   ],
   "id": "810436e907438894"
  },
  {
   "metadata": {},
   "cell_type": "markdown",
   "source": [
    "### Examples of Higher-Order Functions\n",
    "\n",
    "1. **`map()`**  \n",
    "   Applies a function to each item in an iterable and returns new iterable with the results.\n",
    "\n",
    "2. **`filter()`**  \n",
    "   Filters elements in an iterable based on a predicate function and returns only the elements that satisfy the condition.\n",
    "\n",
    "3. **`reduce()`**  \n",
    "   Cumulatively applies a function to the items of an iterable, reducing it to a single value.\n",
    "\n",
    "4. **`sorted()`**  \n",
    "   Sorts items in an iterable using a custom sorting function passed as the `key` argument.\n",
    "\n",
    "5. **Custom Functions**\n",
    "   that accept other functions as arguments to apply custom operations."
   ],
   "id": "5f14f70807bdbdbb"
  },
  {
   "metadata": {},
   "cell_type": "markdown",
   "source": "![Map/Filter/Reduce](images/mfr.png) ",
   "id": "eb15dc30eff7c82"
  },
  {
   "metadata": {
    "ExecuteTime": {
     "end_time": "2024-11-28T11:16:50.927281Z",
     "start_time": "2024-11-28T11:16:50.920924Z"
    }
   },
   "cell_type": "code",
   "source": [
    "numbers = [1, 2, 3, 4]\n",
    "squares = map(lambda x: x**2, numbers) # lazy evaluation\n",
    "print('map without trigger:', squares)\n",
    "squares = list(squares) # list triggers the execution\n",
    "print('map with trigger:', squares)"
   ],
   "id": "3fa33d71d41467b7",
   "outputs": [
    {
     "name": "stdout",
     "output_type": "stream",
     "text": [
      "map without trigger: <map object at 0x000001587C163D00>\n",
      "map with trigger: [1, 4, 9, 16]\n"
     ]
    }
   ],
   "execution_count": 23
  },
  {
   "metadata": {
    "ExecuteTime": {
     "end_time": "2024-11-28T11:16:50.973101Z",
     "start_time": "2024-11-28T11:16:50.967591Z"
    }
   },
   "cell_type": "code",
   "source": [
    "numbers = [1, 2, 3, 4]\n",
    "squares = list(map(lambda x: x**2, numbers))\n",
    "print(squares) "
   ],
   "id": "e9b94fc0f6904cef",
   "outputs": [
    {
     "name": "stdout",
     "output_type": "stream",
     "text": [
      "[1, 4, 9, 16]\n"
     ]
    }
   ],
   "execution_count": 24
  },
  {
   "metadata": {
    "ExecuteTime": {
     "end_time": "2024-11-28T11:16:50.989653Z",
     "start_time": "2024-11-28T11:16:50.984629Z"
    }
   },
   "cell_type": "code",
   "source": [
    "numbers = [1, 2, 3, 4, 5, -6]\n",
    "max_value = max(numbers, key=lambda x: abs(x))\n",
    "print(max_value)"
   ],
   "id": "572d10d700e6cf06",
   "outputs": [
    {
     "name": "stdout",
     "output_type": "stream",
     "text": [
      "-6\n"
     ]
    }
   ],
   "execution_count": 25
  },
  {
   "metadata": {
    "ExecuteTime": {
     "end_time": "2024-11-28T11:16:51.002820Z",
     "start_time": "2024-11-28T11:16:50.998316Z"
    }
   },
   "cell_type": "code",
   "source": [
    "numbers = [1, 2, 3, 4, 5, -6, 7, 8, 9]\n",
    "odd_numbers = list(filter(lambda x: x % 2 != 0, numbers))\n",
    "print(odd_numbers)"
   ],
   "id": "bf9501a51b0444e0",
   "outputs": [
    {
     "name": "stdout",
     "output_type": "stream",
     "text": [
      "[1, 3, 5, 7, 9]\n"
     ]
    }
   ],
   "execution_count": 26
  },
  {
   "metadata": {
    "ExecuteTime": {
     "end_time": "2024-11-28T11:16:51.066159Z",
     "start_time": "2024-11-28T11:16:51.061096Z"
    }
   },
   "cell_type": "code",
   "source": [
    "list1 = [1, 2, 3]\n",
    "list2 = [4, 5, 6]\n",
    "summed_pairs = list(map(lambda x: x[0] + x[1], zip(list1, list2)))\n",
    "print(summed_pairs)"
   ],
   "id": "8f08a0984b1fdd0f",
   "outputs": [
    {
     "name": "stdout",
     "output_type": "stream",
     "text": [
      "[5, 7, 9]\n"
     ]
    }
   ],
   "execution_count": 27
  },
  {
   "metadata": {
    "ExecuteTime": {
     "end_time": "2024-11-28T11:16:51.081587Z",
     "start_time": "2024-11-28T11:16:51.076598Z"
    }
   },
   "cell_type": "code",
   "source": [
    "from functools import reduce\n",
    "\n",
    "numbers = [1, 2, 3, 4, 5, -6, 7, 8, 9]\n",
    "print(reduce(lambda x, y: x + y, numbers)) # reduce start with the default value of the type inside the list"
   ],
   "id": "9b0a98e3cd3207c1",
   "outputs": [
    {
     "name": "stdout",
     "output_type": "stream",
     "text": [
      "33\n"
     ]
    }
   ],
   "execution_count": 28
  },
  {
   "metadata": {
    "ExecuteTime": {
     "end_time": "2024-11-28T11:16:51.097033Z",
     "start_time": "2024-11-28T11:16:51.092411Z"
    }
   },
   "cell_type": "code",
   "source": [
    "# default values\n",
    "print(int())\n",
    "print(float())"
   ],
   "id": "e4e321264b8af688",
   "outputs": [
    {
     "name": "stdout",
     "output_type": "stream",
     "text": [
      "0\n",
      "0.0\n"
     ]
    }
   ],
   "execution_count": 29
  },
  {
   "metadata": {
    "ExecuteTime": {
     "end_time": "2024-11-28T11:16:51.159889Z",
     "start_time": "2024-11-28T11:16:51.154522Z"
    }
   },
   "cell_type": "code",
   "source": [
    "words = [\"Mohammad\", \"Fadi\", \"Al-Hennawi\"]\n",
    "sorted_words = sorted(words)\n",
    "sorted_words_by_key = sorted(words, key=lambda word: len(word))\n",
    "print(sorted_words)\n",
    "print(sorted_words_by_key)"
   ],
   "id": "32779a672abfa8c9",
   "outputs": [
    {
     "name": "stdout",
     "output_type": "stream",
     "text": [
      "['Al-Hennawi', 'Fadi', 'Mohammad']\n",
      "['Fadi', 'Mohammad', 'Al-Hennawi']\n"
     ]
    }
   ],
   "execution_count": 30
  },
  {
   "metadata": {},
   "cell_type": "markdown",
   "source": [
    "## Real World Example: Nearest hospital in a GPS App\n",
    "\n",
    "In a GPS app, we often need to find the nearest point to the user, who is located at any point (4, -2) for e.g. This can be done by calculating the distance between the user's location and various points of interest (POIs) using a mathematical formula such as the Euclidean distance.\n",
    "\n",
    "$$\n",
    "\\text{Euclidean Distance} = \\sqrt{(x_1 - x_2)^2 + (y_1 - y_2)^2}\n",
    "$$"
   ],
   "id": "e7b101f33baead30"
  },
  {
   "metadata": {
    "ExecuteTime": {
     "end_time": "2024-11-28T11:16:51.173586Z",
     "start_time": "2024-11-28T11:16:51.168426Z"
    }
   },
   "cell_type": "code",
   "source": [
    "hospitals_locations = [\n",
    "    (0, -18),\n",
    "    (5, 9),\n",
    "    (7, 10),\n",
    "    (-8, 11),\n",
    "    (9, -12),\n",
    "    (10, 13),\n",
    "    (-11, 14),\n",
    "    (12, 15),\n",
    "]\n",
    "user_location = 4, -2"
   ],
   "id": "fc77ffd661662f0b",
   "outputs": [],
   "execution_count": 31
  },
  {
   "metadata": {
    "ExecuteTime": {
     "end_time": "2024-11-28T11:16:51.188892Z",
     "start_time": "2024-11-28T11:16:51.182599Z"
    }
   },
   "cell_type": "code",
   "source": [
    "from math import sqrt\n",
    "\n",
    "distances = map(\n",
    "        lambda point: sqrt((point[0] - user_location[0]) ** 2 + (point[1] - user_location[1]) ** 2),\n",
    "        hospitals_locations\n",
    ")\n",
    "\n",
    "nearest_hospitals = min(enumerate(distances, start=0), key=lambda x: x[1]) \n",
    "\n",
    "print('nearst hospitals:', nearest_hospitals[0])\n",
    "print('distance:', nearest_hospitals[1])"
   ],
   "id": "7f92651cdbba0857",
   "outputs": [
    {
     "name": "stdout",
     "output_type": "stream",
     "text": [
      "nearst hospitals: 1\n",
      "distance: 11.045361017187261\n"
     ]
    }
   ],
   "execution_count": 32
  },
  {
   "metadata": {
    "ExecuteTime": {
     "end_time": "2024-11-28T11:16:51.433372Z",
     "start_time": "2024-11-28T11:16:51.190902Z"
    }
   },
   "cell_type": "code",
   "source": [
    "import matplotlib.pyplot as plt\n",
    "\n",
    "plt.scatter(*zip(*hospitals_locations), label='Hospitals')\n",
    "plt.scatter(*user_location, label='User', color='red', marker='x')\n",
    "plt.scatter(*hospitals_locations[nearest_hospitals[0]], label='Nearest Hospital', color='green')\n",
    "plt.xlabel('X')\n",
    "plt.ylabel('Y')\n",
    "plt.title('Hospital and User Locations')\n",
    "plt.legend()\n",
    "plt.show()"
   ],
   "id": "8b00f78c0b0aefaf",
   "outputs": [
    {
     "data": {
      "text/plain": [
       "<Figure size 640x480 with 1 Axes>"
      ],
      "image/png": "[encoded data removed]"
     },
     "metadata": {},
     "output_type": "display_data"
    }
   ],
   "execution_count": 33
  }
 ],
 "metadata": {
  "kernelspec": {
   "display_name": "Python 3",
   "language": "python",
   "name": "python3"
  },
  "language_info": {
   "codemirror_mode": {
    "name": "ipython",
    "version": 2
   },
   "file_extension": ".py",
   "mimetype": "text/x-python",
   "name": "python",
   "nbconvert_exporter": "python",
   "pygments_lexer": "ipython2",
   "version": "2.7.6"
  }
 },
 "nbformat": 4,
 "nbformat_minor": 5
}
