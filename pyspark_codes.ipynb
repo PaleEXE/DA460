{
 "cells": [
  {
   "cell_type": "code",
   "id": "initial_id",
   "metadata": {
    "collapsed": true,
    "ExecuteTime": {
     "end_time": "2024-11-28T10:12:11.595325Z",
     "start_time": "2024-11-28T10:12:11.257523Z"
    }
   },
   "source": [
    "import findspark\n",
    "findspark.init()\n",
    "from pyspark import SparkConf, SparkContext"
   ],
   "outputs": [],
   "execution_count": 1
  },
  {
   "metadata": {
    "ExecuteTime": {
     "end_time": "2024-11-28T10:12:27.608863Z",
     "start_time": "2024-11-28T10:12:11.596336Z"
    }
   },
   "cell_type": "code",
   "source": [
    "conf = SparkConf().setAppName(\"Application name\")\n",
    "sc = SparkContext(conf=conf)"
   ],
   "id": "f11c4b7230b02a6e",
   "outputs": [],
   "execution_count": 2
  },
  {
   "metadata": {},
   "cell_type": "markdown",
   "source": [
    "## Difference between map and flatmap\n",
    "- **`map`**: Transforms each element of a collection into a new collection, preserving the structure.\n",
    "- **`flatMap`**: Transforms each element into a collection and then flattens the result into a single collection."
   ],
   "id": "6aac0c744aa389f2"
  },
  {
   "metadata": {
    "ExecuteTime": {
     "end_time": "2024-11-28T10:12:27.935840Z",
     "start_time": "2024-11-28T10:12:27.609872Z"
    }
   },
   "cell_type": "code",
   "source": [
    "names = [\n",
    "    \"Mohammad Al-Hennawi\",\n",
    "    \"Rafat Hamad\",\n",
    "    \"Cristiano ronaldo\"\n",
    "]\n",
    "# convert list to rdd\n",
    "rdd1 = sc.parallelize(names)\n",
    "rdd2 = sc.parallelize(names)"
   ],
   "id": "d5487dc6752b9adc",
   "outputs": [],
   "execution_count": 3
  },
  {
   "metadata": {
    "ExecuteTime": {
     "end_time": "2024-11-28T10:12:52.540883Z",
     "start_time": "2024-11-28T10:12:27.937371Z"
    }
   },
   "cell_type": "code",
   "source": [
    "map_list = rdd1.map(lambda x: x.split()).collect() # 2D array\n",
    "flatmap_list = rdd2.flatMap(lambda x: x.split()).collect() # 1D array"
   ],
   "id": "dc47ef612be9500f",
   "outputs": [],
   "execution_count": 4
  },
  {
   "metadata": {
    "ExecuteTime": {
     "end_time": "2024-11-28T10:12:52.551640Z",
     "start_time": "2024-11-28T10:12:52.543896Z"
    }
   },
   "cell_type": "code",
   "source": [
    "print('map', map_list)\n",
    "print('flatMap', flatmap_list)"
   ],
   "id": "bffd9b134f9207f9",
   "outputs": [
    {
     "name": "stdout",
     "output_type": "stream",
     "text": [
      "map [['Mohammad', 'Al-Hennawi'], ['Rafat', 'Hamad'], ['Cristiano', 'ronaldo']]\n",
      "flatMap ['Mohammad', 'Al-Hennawi', 'Rafat', 'Hamad', 'Cristiano', 'ronaldo']\n"
     ]
    }
   ],
   "execution_count": 5
  },
  {
   "metadata": {
    "ExecuteTime": {
     "end_time": "2024-11-28T10:13:20.116963Z",
     "start_time": "2024-11-28T10:13:08.179527Z"
    }
   },
   "cell_type": "code",
   "source": "rdd1.saveAsTextFile('output')",
   "id": "6a7c8a5f2268b2e8",
   "outputs": [],
   "execution_count": 8
  },
  {
   "metadata": {},
   "cell_type": "markdown",
   "source": [
    "### Output Folder:\n",
    "![Output Folder](images/ss1.png) \n",
    "\n",
    "The number of parts is 12 because my PC has 12 threads, so it could be different from PC to another"
   ],
   "id": "627cbdbddac76e68"
  },
  {
   "metadata": {},
   "cell_type": "markdown",
   "source": "### Word Count example",
   "id": "92fd4bd02bab1ae"
  },
  {
   "metadata": {
    "ExecuteTime": {
     "end_time": "2024-11-28T10:14:30.218343Z",
     "start_time": "2024-11-28T10:14:30.154075Z"
    }
   },
   "cell_type": "code",
   "source": [
    "file = sc.textFile(\"data/input_01.txt\", 4) # set the number of partitions\n",
    "print(file) # lazy reading of the text file"
   ],
   "id": "c443ae1f496ed5ca",
   "outputs": [
    {
     "name": "stdout",
     "output_type": "stream",
     "text": [
      "data/input_01.txt MapPartitionsRDD[11] at textFile at NativeMethodAccessorImpl.java:0\n"
     ]
    }
   ],
   "execution_count": 9
  },
  {
   "metadata": {
    "ExecuteTime": {
     "end_time": "2024-11-28T10:14:31.513287Z",
     "start_time": "2024-11-28T10:14:31.500379Z"
    }
   },
   "cell_type": "code",
   "source": [
    "lines = file.flatMap(lambda line: line.split())\n",
    "print(lines) # lazy transformation"
   ],
   "id": "6bcc8f0e9e7a4ce3",
   "outputs": [
    {
     "name": "stdout",
     "output_type": "stream",
     "text": [
      "PythonRDD[12] at RDD at PythonRDD.scala:53\n"
     ]
    }
   ],
   "execution_count": 10
  },
  {
   "metadata": {
    "ExecuteTime": {
     "end_time": "2024-11-28T10:14:32.394162Z",
     "start_time": "2024-11-28T10:14:32.381630Z"
    }
   },
   "cell_type": "code",
   "source": [
    "word = lines.map(lambda word: (word, 1))\n",
    "print(word) # lazy transformation"
   ],
   "id": "6975541bf718f91a",
   "outputs": [
    {
     "name": "stdout",
     "output_type": "stream",
     "text": [
      "PythonRDD[13] at RDD at PythonRDD.scala:53\n"
     ]
    }
   ],
   "execution_count": 11
  },
  {
   "metadata": {
    "ExecuteTime": {
     "end_time": "2024-11-28T10:14:33.889545Z",
     "start_time": "2024-11-28T10:14:33.802990Z"
    }
   },
   "cell_type": "code",
   "source": [
    "counts = word.reduceByKey(lambda a, b: a + b)\n",
    "print(counts) # lazy transformation"
   ],
   "id": "b0aee828d5b2db76",
   "outputs": [
    {
     "name": "stdout",
     "output_type": "stream",
     "text": [
      "PythonRDD[18] at RDD at PythonRDD.scala:53\n"
     ]
    }
   ],
   "execution_count": 12
  },
  {
   "metadata": {
    "ExecuteTime": {
     "end_time": "2024-11-28T10:14:47.262547Z",
     "start_time": "2024-11-28T10:14:38.520857Z"
    }
   },
   "cell_type": "code",
   "source": [
    "counts_list = counts.collect() # action\n",
    "print(counts_list)\n",
    "\n",
    "# this cell takes most of the time because it starts the evaluation"
   ],
   "id": "fa875868c0767b5",
   "outputs": [
    {
     "name": "stdout",
     "output_type": "stream",
     "text": [
      "[('================================================================================', 2), ('to', 18), ('Foundation', 2), ('(ASF)', 1), ('under', 5), ('more', 3), ('contributor', 1), ('license', 1), ('See', 4), ('NOTICE', 1), ('this', 7), ('work', 4), ('information', 2), ('ownership.', 1), ('ASF', 1), ('licenses', 1), ('use', 6), ('of', 15), ('License', 4), ('at', 3), ('Unless', 1), ('by', 8), ('OR', 1), ('CONDITIONS', 1), ('KIND,', 1), ('implied.', 1), ('language', 1), ('and', 18), ('=========', 2), ('*', 30), ('Web', 2), ('reloading', 2), ('static', 5), ('fields', 2), ('shared', 7), ('URLs', 2), ('Log', 1), ('===================', 2), ('Changes:', 1), ('public', 2), ('changed', 2), ('remaining', 2), ('javax', 1), ('added', 2), ('and/or', 2), ('new', 1), ('interface', 1), ('method', 1), ('it', 2), ('(excluding', 1), ('time.', 1), ('part', 2), ('=============', 2), ('standard', 1), ('available', 3), ('applications', 2), ('(by', 1), ('catalina.jar', 1), ('(Tomcat', 3), ('Catalina', 3), ('catalina-ssi.jar', 1), ('(Generation', 1), ('compiler)', 1), ('(EL', 1), ('3.0', 1), ('jasper-el.jar', 1), ('(JSP', 1), ('(Servlet', 1), ('utility', 1), ('classes)', 1), ('tomcat-dbcp.jar', 1), ('2)', 1), ('tomcat-jdbc.jar', 1), (\"(Tomcat's\", 1), ('tomcat-jni.jar', 1), ('(not', 1), ('To', 2), ('appropriate', 1), ('feature', 1), ('9+', 1), ('upgradeable', 1), ('libraries:', 1), ('objects', 1), ('avoid', 2), ('class', 1), ('related', 1), ('(ClassCastExceptions,', 1), ('messages', 1), ('might', 1), ('would', 1), ('field', 1), ('folder,', 1), ('URLs:', 1), ('inside', 1), ('policy', 1), ('============================', 2), ('used', 2), ('outside', 1), ('behavior', 1), ('\"allowLinking\"', 1), ('==============================', 2), ('reside', 1), ('have', 1), ('another', 1), ('country,', 1), ('using', 2), (\"country's\", 1), ('regulations', 1), ('concerning', 1), ('permitted.', 1), ('Commerce,', 1), ('Bureau', 1), ('(ECCN)', 1), ('algorithms.', 1), ('Technology', 1), ('Unrestricted', 1), ('code.', 1), ('OpenSSL', 1), ('FAQ', 1), ('the', 46), ('Apache', 4), ('Software', 3), ('one', 1), ('or', 8), ('additional', 2), ('regarding', 1), ('The', 11), ('Version', 2), ('except', 1), ('in', 18), ('compliance', 1), ('applicable', 1), ('agreed', 1), ('software', 5), ('is', 9), ('BASIS,', 1), ('either', 1), ('permissions', 2), ('9.0.84', 1), ('application', 6), ('Viewing', 2), ('Change', 2), ('notice', 3), ('all', 5), ('fails', 1), ('Stability:', 1), ('during', 1), ('lifetime', 1), ('9.x', 1), ('No', 1), ('As', 1), ('9', 1), ('above', 1), ('list', 2), ('change', 2), ('\"lib\"):', 1), ('annotations-api.jar', 1), ('(Annotations', 1), ('catalina-ha.jar', 1), ('availability', 1), ('(Server-side', 1), ('Includes', 1), ('module)', 1), ('current', 1), ('communication)', 1), ('el-api.jar', 1), ('API)', 4), ('(Jasper', 2), ('2', 2), ('Compiler', 1), ('Runtime)', 1), ('4.0', 1), ('tomcat-api.jar', 1), ('Jasper)', 1), ('connectors', 1), ('renamed', 1), ('pooling', 1), ('solution)', 1), ('component', 1), ('(WebSocket', 2), ('directory', 1), ('files', 1), ('override', 2), ('interfaces,', 1), ('JVM.', 1), ('default', 1), ('defines', 1), ('located', 3), ('keep', 1), ('loading', 1), ('that', 1), ('stopped,', 1), ('etc.),', 1), ('Something', 1), ('folder).', 1), ('======================', 2), ('In', 1), ('grant', 1), ('repository,', 1), ('file:${catalina.base}/webapps/examples/WEB-INF/lib/driver.jar', 1), ('resources:', 1), ('default,', 1), ('Unix', 1), ('This', 2), ('software.', 2), ('currently', 1), ('possession,', 2), ('encryption', 3), ('BEFORE', 1), ('any', 1), ('please', 1), ('policies', 1), ('if', 1), ('(BIS),', 1), ('has', 1), ('Commodity', 1), ('performing', 1), ('functions', 1), ('asymmetric', 1), ('Exception', 1), ('ENC', 1), ('(TSU)', 1), ('exception', 1), ('Administration', 1), ('Regulations,', 1), ('source', 1), ('software:', 1), ('JSSE', 1), ('====================', 2), ('Licensed', 1), ('agreements.', 1), ('file', 3), ('distributed', 3), ('with', 5), ('for', 9), ('License,', 1), ('you', 2), ('License.', 2), ('http://www.apache.org/licenses/LICENSE-2.0', 1), ('law', 1), ('writing,', 1), ('an', 1), ('\"AS', 1), ('IS\"', 1), ('ANY', 1), ('governing', 1), ('limitations', 1), ('Security', 3), ('When', 2), ('Java', 4), ('later.', 1), ('interfaces', 2), ('classes', 7), ('are', 3), ('fixed', 1), ('will', 4), ('series:', 1), ('-', 4), ('All', 1), ('bugs', 1), ('add', 1), ('existing', 1), ('removed', 1), ('although', 1), ('deprecated.', 1), ('matures,', 1), ('to.', 1), ('considered', 2), ('internals', 1), ('without', 1), ('between', 1), ('releases.', 1), ('A', 1), ('installation', 1), ('web', 8), ('placing', 2), ('package)', 2), ('catalina-ant.jar', 1), ('Ant', 1), ('from', 2), ('state)', 1), ('jasper.jar', 1), ('EL', 1), ('jsp-api.jar', 1), ('2.3', 1), ('connection', 2), ('Commons', 1), ('DBCP', 1), ('(Interface', 1), ('APR/native', 1), ('tomcat-util.jar', 1), ('1.1', 2), ('putting', 3), ('unpacked', 1), ('\"lib\"', 2), ('directory.', 2), ('<=', 1), ('endorsed', 1), ('\"endorsed\"', 1), ('as', 2), ('modules', 1), ('================================================================', 2), ('application.', 2), ('problems', 1), ('state', 1), ('should', 3), ('help', 1), ('classloader,', 1), ('instead', 1), ('By', 1), ('flag', 1), ('check.', 1), ('full', 1), ('https://tomcat.apache.org', 1), ('documentation', 1), ('distribution', 2), ('cryptographic', 3), ('country', 1), ('restrictions', 1), ('import,', 2), ('software,', 2), ('see', 1), ('<http://www.wassenaar.org/>', 1), ('information.', 1), ('U.S.', 1), ('Government', 1), ('Control', 1), ('Number', 1), ('form', 1), ('manner', 1), ('(see', 1), ('Section', 1), ('object', 1), ('fails:', 1), ('copyright', 1), ('You', 3), ('2.0', 1), ('(the', 1), ('\"License\");', 1), ('may', 7), ('not', 4), ('obtain', 1), ('a', 4), ('copy', 1), ('required', 1), ('on', 5), ('WITHOUT', 1), ('WARRANTIES', 1), ('OF', 1), ('express', 1), ('specific', 1), ('Tomcat', 9), ('Release', 1), ('Notes', 1), ('CONTENTS:', 1), ('Dependency', 2), ('Changes', 1), ('API', 2), ('Stability', 1), ('Bundled', 2), ('APIs', 3), ('libraries', 3), ('manager', 2), ('Symlinking', 2), ('resources', 2), ('Cryptographic', 2), ('else', 2), ('9.0', 2), ('designed', 3), ('run', 1), ('8', 2), ('==============', 2), ('following', 5), ('be', 10), ('namespace', 1), ('order', 2), ('resolve', 1), ('features.', 1), ('org.apache.catalina.*', 1), ('sub-packages)', 1), ('Note:', 1), ('complete', 1), ('point', 1), ('APIs:', 1), ('makes', 2), ('them', 3), ('implementation)', 3), ('tasks)', 1), ('(High', 1), ('catalina-storeconfig.jar', 1), ('XML', 2), ('configuration', 2), ('catalina-tribes.jar', 1), ('(Group', 1), ('ecj-4.20.jar', 1), ('(Eclipse', 1), ('JDT', 1), ('servlet-api.jar', 1), ('(Interfaces', 1), ('tomcat-coyote.jar', 1), ('(package', 1), ('database', 2), ('pool', 1), ('based', 1), ('native', 1), ('connector)', 1), ('(Various', 1), ('utilities)', 1), ('tomcat-websocket.jar', 1), ('websocket-api.jar', 1), ('can', 1), ('make', 1), ('your', 4), ('into', 1), ('\"classes\"', 2), ('created', 1), ('default),', 1), ('JAR', 1), ('parser', 1), ('implementation', 1), ('For', 2), ('standards', 1), ('feature.', 2), ('JARs', 2), ('endorsed.', 1), ('Some', 1), ('(many', 1), ('JDK)', 1), ('references', 1), ('instantiated', 1), ('indicating', 1), ('classloader', 2), ('reinitialized.', 1), ('which', 4), ('referenced', 1), ('(JARs', 1), ('put', 2), ('security', 2), ('format', 1), ('file:', 1), ('symlinks', 1), ('when', 1), ('link', 1), ('root', 1), ('optional,', 1), ('deactivate', 1), ('Log:', 1), ('log', 1), ('also', 1), ('included', 2), ('=============================', 2), ('includes', 4), ('use,', 2), ('re-export', 2), ('check', 1), ('laws,', 1), ('Department', 1), ('Industry', 1), ('classified', 1), ('Export', 2), ('5D002.C.1,', 1), ('eligible', 1), ('export', 1), ('BIS', 1), ('740.13)', 1), ('both', 1), ('code', 3), ('provides', 1), ('details', 1), ('https://tomcat.apache.org/faq/', 1)]\n"
     ]
    }
   ],
   "execution_count": 13
  },
  {
   "metadata": {
    "ExecuteTime": {
     "end_time": "2024-11-28T10:14:51.273493Z",
     "start_time": "2024-11-28T10:14:47.265064Z"
    }
   },
   "cell_type": "code",
   "source": [
    "total_count = counts.map(lambda x: x[1]).reduce(lambda a, b: a + b) # reduce is the trigger here\n",
    "print(total_count)"
   ],
   "id": "f4e62bf6824578ba",
   "outputs": [
    {
     "name": "stdout",
     "output_type": "stream",
     "text": [
      "906\n"
     ]
    }
   ],
   "execution_count": 14
  },
  {
   "metadata": {
    "ExecuteTime": {
     "end_time": "2024-11-28T10:15:21.385293Z",
     "start_time": "2024-11-28T10:15:17.248099Z"
    }
   },
   "cell_type": "code",
   "source": "counts.saveAsTextFile('counts')",
   "id": "a462359375c091e5",
   "outputs": [],
   "execution_count": 15
  },
  {
   "metadata": {},
   "cell_type": "markdown",
   "source": [
    "## Counts Folder:\n",
    "![Counts Folder](images/ss2.png) \n",
    "\n",
    "The number of parts is four because I have set minPartitions to four"
   ],
   "id": "721991f69d2e5edd"
  },
  {
   "metadata": {},
   "cell_type": "markdown",
   "source": [
    "## Common Triggers (Actions) in PySpark\n",
    "\n",
    "In PySpark, actions are operations that trigger the actual execution of the computations on the dataset. Below are some commonly used actions:\n",
    "\n",
    "- **`collect()`**: Returns all the elements of the dataset as a list to the driver.\n",
    "- **`count()`**: Returns the number of elements in the dataset.\n",
    "- **`first()`**: Returns the first element of the dataset.\n",
    "- **`take(n)`**: Returns the first `n` elements of the dataset.\n",
    "- **`takeOrdered(n, key=None)`**: Returns the first `n` elements ordered by a specified key.\n",
    "- **`reduce()`**: Aggregates the elements of the dataset using an associative function.\n",
    "- **`reduceByKey()`**: Aggregates values of the same key using an associative function.\n",
    "- **`foreach()`**: Applies a function to each element in the dataset, typically for side effects.\n",
    "- **`saveAsTextFile(path)`**: Writes the dataset to a text file at the specified path.\n",
    "- **`saveAsParquetFile(path)`**: Saves the dataset in Parquet format.\n",
    "- **`countByKey()`**: Returns the count of elements with each key in the dataset.\n",
    "- **`aggregate()`**: Aggregates the elements of the dataset with a combination of a zero value and an aggregate function.\n",
    "- **`isEmpty()`**: Returns `True` if the dataset is empty.\n",
    "- **`max()`**: Returns the maximum value in the dataset.\n",
    "- **`min()`**: Returns the minimum value in the dataset.\n",
    "- **`sum()`**: Returns the sum of all elements in the dataset.\n",
    "- **`mean()`**: Returns the mean (average) value of the dataset.\n",
    "- **`stdev()`**: Returns the standard deviation of the dataset.\n",
    "\n",
    "These actions trigger the execution of transformations and return results to the driver program."
   ],
   "id": "2ed5fa568069712b"
  },
  {
   "metadata": {
    "ExecuteTime": {
     "end_time": "2024-11-28T10:30:57.184897Z",
     "start_time": "2024-11-28T10:30:52.980809Z"
    }
   },
   "cell_type": "code",
   "source": "print(counts.count()) # prints number of distinct words",
   "id": "fee209e15ba4c525",
   "outputs": [
    {
     "name": "stdout",
     "output_type": "stream",
     "text": [
      "470\n"
     ]
    }
   ],
   "execution_count": 16
  },
  {
   "metadata": {
    "ExecuteTime": {
     "end_time": "2024-11-28T10:33:22.812960Z",
     "start_time": "2024-11-28T10:33:18.697480Z"
    }
   },
   "cell_type": "code",
   "source": "print(counts.takeOrdered(5, key=lambda x: -x[1])) # tke the most 5 frequent words",
   "id": "db6961ca2176eeb0",
   "outputs": [
    {
     "name": "stdout",
     "output_type": "stream",
     "text": [
      "[('the', 46), ('*', 30), ('to', 18), ('and', 18), ('in', 18)]\n"
     ]
    }
   ],
   "execution_count": 18
  },
  {
   "metadata": {},
   "cell_type": "markdown",
   "source": [
    "# Example of Lineage Graph: Count of Bad Lines in a Log File\n",
    "\n",
    "A log file is a tracer of any action in a website or database. Fortunately, I have a website called **[PLogic](https://www.linkedin.com/posts/mohammad-al-hennawi-9856592b9_throughout-my-college-journey-in-data-activity-7253457852055379968-j0qz?utm_source=share&utm_medium=member_desktop)**, and it generates real log files. Below is a simple lineage graph:\n",
    "\n",
    ".\n",
    "<img src=\"images/ss3_1.png\" alt=\"LOGS\">\n"
   ],
   "id": "abf3c25c2a7c4e84"
  },
  {
   "metadata": {
    "ExecuteTime": {
     "end_time": "2024-11-28T10:57:10.502470Z",
     "start_time": "2024-11-28T10:57:10.473812Z"
    }
   },
   "cell_type": "code",
   "source": "log_file = sc.textFile(\"data/PlogicLogs.txt\")",
   "id": "73f16418b2c5809",
   "outputs": [],
   "execution_count": 27
  },
  {
   "metadata": {
    "ExecuteTime": {
     "end_time": "2024-11-28T10:57:10.761008Z",
     "start_time": "2024-11-28T10:57:10.756947Z"
    }
   },
   "cell_type": "code",
   "source": "log_lower = log_file.map(lambda line: line.lower()) # covert all letters to lower case",
   "id": "dd16259c6a760eb4",
   "outputs": [],
   "execution_count": 28
  },
  {
   "metadata": {
    "ExecuteTime": {
     "end_time": "2024-11-28T10:57:11.094682Z",
     "start_time": "2024-11-28T10:57:11.074620Z"
    }
   },
   "cell_type": "code",
   "source": [
    "error_rdd = log_lower.filter(lambda line: line.find(\"error\") != -1) # find if 'error' in the line (bad line) else returns -1 (good line)\n",
    "waring_rdd = log_lower.filter(lambda line: line.find(\"warning\") != -1) # find if 'waring' in the line (bad line) else returns -1 (good line)\n",
    "bad_rdd = waring_rdd.union(error_rdd)"
   ],
   "id": "bb79ca4e5704c14d",
   "outputs": [],
   "execution_count": 29
  },
  {
   "metadata": {
    "ExecuteTime": {
     "end_time": "2024-11-28T10:57:19.416248Z",
     "start_time": "2024-11-28T10:57:11.523526Z"
    }
   },
   "cell_type": "code",
   "source": "print(bad_rdd.count())",
   "id": "7d42e8b0c6204c90",
   "outputs": [
    {
     "name": "stdout",
     "output_type": "stream",
     "text": [
      "5\n"
     ]
    }
   ],
   "execution_count": 30
  },
  {
   "metadata": {
    "ExecuteTime": {
     "end_time": "2024-11-28T10:57:27.247071Z",
     "start_time": "2024-11-28T10:57:19.418257Z"
    }
   },
   "cell_type": "code",
   "source": "print(bad_rdd.take(3))",
   "id": "c16c03db2b1b87f2",
   "outputs": [
    {
     "name": "stdout",
     "output_type": "stream",
     "text": [
      "['2024-11-28 12:46:10,443 - warning - deprecated operation \\'&\\' used in expression \"a & b\". consider replacing with \\'&&\\'.', '2024-11-28 12:49:45,603 - warning - unsupported operation \"xor\" in expression \"a xor b\". consider replacing with \"^\".', '2024-11-28 12:47:32,122 - error - syntaxerror in evaluate_expression: unexpected end of input (sample request: {\"expression\": \"(a &\"}). expected: complete logical expression like \"(a & b)\".']\n"
     ]
    }
   ],
   "execution_count": 31
  }
 ],
 "metadata": {
  "kernelspec": {
   "display_name": "Python 3",
   "language": "python",
   "name": "python3"
  },
  "language_info": {
   "codemirror_mode": {
    "name": "ipython",
    "version": 2
   },
   "file_extension": ".py",
   "mimetype": "text/x-python",
   "name": "python",
   "nbconvert_exporter": "python",
   "pygments_lexer": "ipython2",
   "version": "2.7.6"
  }
 },
 "nbformat": 4,
 "nbformat_minor": 5
}
