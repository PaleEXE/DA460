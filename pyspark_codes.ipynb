{
 "cells": [
  {
   "cell_type": "code",
   "id": "initial_id",
   "metadata": {
    "collapsed": true,
    "ExecuteTime": {
     "end_time": "2024-11-28T11:27:26.174369Z",
     "start_time": "2024-11-28T11:27:25.895437Z"
    }
   },
   "source": [
    "import findspark\n",
    "findspark.init()\n",
    "from pyspark import SparkConf, SparkContext"
   ],
   "outputs": [],
   "execution_count": 1
  },
  {
   "metadata": {
    "ExecuteTime": {
     "end_time": "2024-11-28T11:27:39.485041Z",
     "start_time": "2024-11-28T11:27:26.175375Z"
    }
   },
   "cell_type": "code",
   "source": [
    "conf = SparkConf().setAppName(\"Application name\")\n",
    "sc = SparkContext(conf=conf)"
   ],
   "id": "f11c4b7230b02a6e",
   "outputs": [],
   "execution_count": 2
  },
  {
   "metadata": {},
   "cell_type": "markdown",
   "source": [
    "## Difference between map and flatmap\n",
    "- **`map`**: Transforms each element of a collection into a new collection, preserving the structure.\n",
    "- **`flatMap`**: Transforms each element into a collection and then flattens the result into a single collection."
   ],
   "id": "6aac0c744aa389f2"
  },
  {
   "metadata": {
    "ExecuteTime": {
     "end_time": "2024-11-28T11:27:39.764295Z",
     "start_time": "2024-11-28T11:27:39.486048Z"
    }
   },
   "cell_type": "code",
   "source": [
    "names = [\n",
    "    \"Mohammad Al-Hennawi\",\n",
    "    \"Rafat Hammad\",\n",
    "    \"Cristiano ronaldo\"\n",
    "]\n",
    "# convert list to rdd\n",
    "rdd1 = sc.parallelize(names)\n",
    "rdd2 = sc.parallelize(names)"
   ],
   "id": "d5487dc6752b9adc",
   "outputs": [],
   "execution_count": 3
  },
  {
   "metadata": {
    "ExecuteTime": {
     "end_time": "2024-11-28T11:28:03.984801Z",
     "start_time": "2024-11-28T11:27:39.765302Z"
    }
   },
   "cell_type": "code",
   "source": [
    "map_list = rdd1.map(lambda x: x.split()).collect() # 2D array\n",
    "flatmap_list = rdd2.flatMap(lambda x: x.split()).collect() # 1D array"
   ],
   "id": "dc47ef612be9500f",
   "outputs": [],
   "execution_count": 4
  },
  {
   "metadata": {
    "ExecuteTime": {
     "end_time": "2024-11-28T11:28:03.994307Z",
     "start_time": "2024-11-28T11:28:03.987323Z"
    }
   },
   "cell_type": "code",
   "source": [
    "print('map', map_list)\n",
    "print('flatMap', flatmap_list)"
   ],
   "id": "bffd9b134f9207f9",
   "outputs": [
    {
     "name": "stdout",
     "output_type": "stream",
     "text": [
      "map [['Mohammad', 'Al-Hennawi'], ['Rafat', 'Hamad'], ['Cristiano', 'ronaldo']]\n",
      "flatMap ['Mohammad', 'Al-Hennawi', 'Rafat', 'Hamad', 'Cristiano', 'ronaldo']\n"
     ]
    }
   ],
   "execution_count": 5
  },
  {
   "metadata": {
    "ExecuteTime": {
     "end_time": "2024-11-28T11:28:32.872119Z",
     "start_time": "2024-11-28T11:28:20.002288Z"
    }
   },
   "cell_type": "code",
   "source": "rdd1.saveAsTextFile('output')",
   "id": "6a7c8a5f2268b2e8",
   "outputs": [],
   "execution_count": 7
  },
  {
   "metadata": {},
   "cell_type": "markdown",
   "source": [
    "### Output Folder:\n",
    "![Output Folder](images/ss1.png) \n",
    "\n",
    "The number of parts is 12 because my PC has 12 threads, so it could be different from PC to another"
   ],
   "id": "627cbdbddac76e68"
  },
  {
   "metadata": {},
   "cell_type": "markdown",
   "source": "### Word Count example",
   "id": "92fd4bd02bab1ae"
  },
  {
   "metadata": {
    "ExecuteTime": {
     "end_time": "2024-11-28T11:28:48.372474Z",
     "start_time": "2024-11-28T11:28:48.309787Z"
    }
   },
   "cell_type": "code",
   "source": [
    "file = sc.textFile(\"data/input_01.txt\", 4) # set the number of partitions\n",
    "print(file) # lazy reading of the text file"
   ],
   "id": "c443ae1f496ed5ca",
   "outputs": [
    {
     "name": "stdout",
     "output_type": "stream",
     "text": [
      "data/input_01.txt MapPartitionsRDD[11] at textFile at NativeMethodAccessorImpl.java:0\n"
     ]
    }
   ],
   "execution_count": 8
  },
  {
   "metadata": {
    "ExecuteTime": {
     "end_time": "2024-11-28T11:28:48.574427Z",
     "start_time": "2024-11-28T11:28:48.562359Z"
    }
   },
   "cell_type": "code",
   "source": [
    "lines = file.flatMap(lambda line: line.split())\n",
    "print(lines) # lazy transformation"
   ],
   "id": "6bcc8f0e9e7a4ce3",
   "outputs": [
    {
     "name": "stdout",
     "output_type": "stream",
     "text": [
      "PythonRDD[12] at RDD at PythonRDD.scala:53\n"
     ]
    }
   ],
   "execution_count": 9
  },
  {
   "metadata": {
    "ExecuteTime": {
     "end_time": "2024-11-28T11:28:48.810459Z",
     "start_time": "2024-11-28T11:28:48.797988Z"
    }
   },
   "cell_type": "code",
   "source": [
    "word = lines.map(lambda word: (word, 1))\n",
    "print(word) # lazy transformation"
   ],
   "id": "6975541bf718f91a",
   "outputs": [
    {
     "name": "stdout",
     "output_type": "stream",
     "text": [
      "PythonRDD[13] at RDD at PythonRDD.scala:53\n"
     ]
    }
   ],
   "execution_count": 10
  },
  {
   "metadata": {
    "ExecuteTime": {
     "end_time": "2024-11-28T11:28:49.116452Z",
     "start_time": "2024-11-28T11:28:49.033737Z"
    }
   },
   "cell_type": "code",
   "source": [
    "counts = word.reduceByKey(lambda a, b: a + b)\n",
    "print(counts) # lazy transformation"
   ],
   "id": "b0aee828d5b2db76",
   "outputs": [
    {
     "name": "stdout",
     "output_type": "stream",
     "text": [
      "PythonRDD[18] at RDD at PythonRDD.scala:53\n"
     ]
    }
   ],
   "execution_count": 11
  },
  {
   "metadata": {
    "ExecuteTime": {
     "end_time": "2024-11-28T11:28:58.180322Z",
     "start_time": "2024-11-28T11:28:49.300418Z"
    }
   },
   "cell_type": "code",
   "source": [
    "counts_list = counts.collect() # action\n",
    "print(counts_list[:6])\n",
    "\n",
    "# this cell takes most of the time because it starts the evaluation"
   ],
   "id": "fa875868c0767b5",
   "outputs": [
    {
     "name": "stdout",
     "output_type": "stream",
     "text": [
      "[('================================================================================', 2), ('to', 18), ('Foundation', 2), ('(ASF)', 1), ('under', 5), ('more', 3)]\n"
     ]
    }
   ],
   "execution_count": 12
  },
  {
   "metadata": {
    "ExecuteTime": {
     "end_time": "2024-11-28T11:29:02.422157Z",
     "start_time": "2024-11-28T11:28:58.182335Z"
    }
   },
   "cell_type": "code",
   "source": [
    "total_count = counts.map(lambda x: x[1]).reduce(lambda a, b: a + b) # reduce is the trigger here\n",
    "print(total_count)"
   ],
   "id": "f4e62bf6824578ba",
   "outputs": [
    {
     "name": "stdout",
     "output_type": "stream",
     "text": [
      "906\n"
     ]
    }
   ],
   "execution_count": 13
  },
  {
   "metadata": {
    "ExecuteTime": {
     "end_time": "2024-11-28T11:29:06.612020Z",
     "start_time": "2024-11-28T11:29:02.423165Z"
    }
   },
   "cell_type": "code",
   "source": "counts.saveAsTextFile('counts')",
   "id": "a462359375c091e5",
   "outputs": [],
   "execution_count": 14
  },
  {
   "metadata": {},
   "cell_type": "markdown",
   "source": [
    "## Counts Folder:\n",
    "![Counts Folder](images/ss2.png) \n",
    "\n",
    "The number of parts is four because I have set minPartitions to four"
   ],
   "id": "721991f69d2e5edd"
  },
  {
   "metadata": {},
   "cell_type": "markdown",
   "source": [
    "## Common Triggers (Actions) in PySpark\n",
    "\n",
    "In PySpark, actions are operations that trigger the actual execution of the computations on the dataset. Below are some commonly used actions:\n",
    "\n",
    "- **`collect()`**: Returns all the elements of the dataset as a list to the driver.\n",
    "- **`count()`**: Returns the number of elements in the dataset.\n",
    "- **`first()`**: Returns the first element of the dataset.\n",
    "- **`take(n)`**: Returns the first `n` elements of the dataset.\n",
    "- **`takeOrdered(n, key=None)`**: Returns the first `n` elements ordered by a specified key.\n",
    "- **`reduce()`**: Aggregates the elements of the dataset using an associative function.\n",
    "- **`reduceByKey()`**: Aggregates values of the same key using an associative function.\n",
    "- **`foreach()`**: Applies a function to each element in the dataset, typically for side effects.\n",
    "- **`saveAsTextFile(path)`**: Writes the dataset to a text file at the specified path.\n",
    "- **`saveAsParquetFile(path)`**: Saves the dataset in Parquet format.\n",
    "- **`countByKey()`**: Returns the count of elements with each key in the dataset.\n",
    "- **`aggregate()`**: Aggregates the elements of the dataset with a combination of a zero value and an aggregate function.\n",
    "- **`isEmpty()`**: Returns `True` if the dataset is empty.\n",
    "- **`max()`**: Returns the maximum value in the dataset.\n",
    "- **`min()`**: Returns the minimum value in the dataset.\n",
    "- **`sum()`**: Returns the sum of all elements in the dataset.\n",
    "- **`mean()`**: Returns the mean (average) value of the dataset.\n",
    "- **`stdev()`**: Returns the standard deviation of the dataset.\n",
    "\n",
    "These actions trigger the execution of transformations and return results to the driver program."
   ],
   "id": "2ed5fa568069712b"
  },
  {
   "metadata": {
    "ExecuteTime": {
     "end_time": "2024-11-28T11:29:10.544564Z",
     "start_time": "2024-11-28T11:29:06.614039Z"
    }
   },
   "cell_type": "code",
   "source": "print(counts.count()) # prints number of distinct words",
   "id": "fee209e15ba4c525",
   "outputs": [
    {
     "name": "stdout",
     "output_type": "stream",
     "text": [
      "470\n"
     ]
    }
   ],
   "execution_count": 15
  },
  {
   "metadata": {
    "ExecuteTime": {
     "end_time": "2024-11-28T11:29:14.648401Z",
     "start_time": "2024-11-28T11:29:10.546088Z"
    }
   },
   "cell_type": "code",
   "source": "print(counts.takeOrdered(5, key=lambda x: -x[1])) # tke the most 5 frequent words",
   "id": "db6961ca2176eeb0",
   "outputs": [
    {
     "name": "stdout",
     "output_type": "stream",
     "text": [
      "[('the', 46), ('*', 30), ('to', 18), ('and', 18), ('in', 18)]\n"
     ]
    }
   ],
   "execution_count": 16
  },
  {
   "metadata": {},
   "cell_type": "markdown",
   "source": [
    "# Example of Lineage Graph: Count of Bad Lines in a Log File\n",
    "\n",
    "A log file is a tracer of any action in a website or database. Fortunately, I have a website called **[PLogic](https://www.linkedin.com/posts/mohammad-al-hennawi-9856592b9_throughout-my-college-journey-in-data-activity-7253457852055379968-j0qz?utm_source=share&utm_medium=member_desktop)**, and it generates real log files. Below is a simple lineage graph:\n",
    "\n",
    ".\n",
    "<img src=\"images/ss3_1.png\" alt=\"LOGS\">\n"
   ],
   "id": "abf3c25c2a7c4e84"
  },
  {
   "metadata": {
    "ExecuteTime": {
     "end_time": "2024-11-28T11:29:14.679529Z",
     "start_time": "2024-11-28T11:29:14.649409Z"
    }
   },
   "cell_type": "code",
   "source": "log_file = sc.textFile(\"data/PlogicLogs.txt\")",
   "id": "73f16418b2c5809",
   "outputs": [],
   "execution_count": 17
  },
  {
   "metadata": {
    "ExecuteTime": {
     "end_time": "2024-11-28T11:29:14.685538Z",
     "start_time": "2024-11-28T11:29:14.680537Z"
    }
   },
   "cell_type": "code",
   "source": "log_lower = log_file.map(lambda line: line.lower()) # covert all letters to lower case",
   "id": "dd16259c6a760eb4",
   "outputs": [],
   "execution_count": 18
  },
  {
   "metadata": {
    "ExecuteTime": {
     "end_time": "2024-11-28T11:29:14.710933Z",
     "start_time": "2024-11-28T11:29:14.687057Z"
    }
   },
   "cell_type": "code",
   "source": [
    "# find if 'error' in the line (bad line) else returns -1 (good line)\n",
    "error_rdd = log_lower.filter(lambda line: line.find(\"error\") != -1)\n",
    " # find if 'waring' in the line (bad line) else returns -1 (good line)\n",
    "waring_rdd = log_lower.filter(lambda line: line.find(\"warning\") != -1)\n",
    "# combine two RDDs into one\n",
    "bad_rdd = waring_rdd.union(error_rdd)"
   ],
   "id": "bb79ca4e5704c14d",
   "outputs": [],
   "execution_count": 19
  },
  {
   "metadata": {
    "ExecuteTime": {
     "end_time": "2024-11-28T11:29:22.711078Z",
     "start_time": "2024-11-28T11:29:14.711940Z"
    }
   },
   "cell_type": "code",
   "source": "print(bad_rdd.count())",
   "id": "7d42e8b0c6204c90",
   "outputs": [
    {
     "name": "stdout",
     "output_type": "stream",
     "text": [
      "5\n"
     ]
    }
   ],
   "execution_count": 20
  },
  {
   "metadata": {
    "ExecuteTime": {
     "end_time": "2024-11-28T11:29:30.809804Z",
     "start_time": "2024-11-28T11:29:22.714086Z"
    }
   },
   "cell_type": "code",
   "source": "print(bad_rdd.take(3))",
   "id": "c16c03db2b1b87f2",
   "outputs": [
    {
     "name": "stdout",
     "output_type": "stream",
     "text": [
      "['2024-11-28 12:46:10,443 - warning - deprecated operation \\'&\\' used in expression \"a & b\". consider replacing with \\'&&\\'.', '2024-11-28 12:49:45,603 - warning - unsupported operation \"xor\" in expression \"a xor b\". consider replacing with \"^\".', '2024-11-28 12:47:32,122 - error - syntaxerror in evaluate_expression: unexpected end of input (sample request: {\"expression\": \"(a &\"}). expected: complete logical expression like \"(a & b)\".']\n"
     ]
    }
   ],
   "execution_count": 21
  }
 ],
 "metadata": {
  "kernelspec": {
   "display_name": "Python 3",
   "language": "python",
   "name": "python3"
  },
  "language_info": {
   "codemirror_mode": {
    "name": "ipython",
    "version": 2
   },
   "file_extension": ".py",
   "mimetype": "text/x-python",
   "name": "python",
   "nbconvert_exporter": "python",
   "pygments_lexer": "ipython2",
   "version": "2.7.6"
  }
 },
 "nbformat": 4,
 "nbformat_minor": 5
}
