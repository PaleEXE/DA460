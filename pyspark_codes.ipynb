{
 "cells": [
  {
   "cell_type": "code",
   "id": "initial_id",
   "metadata": {
    "collapsed": true,
    "ExecuteTime": {
     "end_time": "2024-11-30T07:16:47.882447Z",
     "start_time": "2024-11-30T07:16:47.303547Z"
    }
   },
   "source": [
    "import findspark\n",
    "findspark.init()\n",
    "from pyspark import SparkConf, SparkContext"
   ],
   "outputs": [],
   "execution_count": 1
  },
  {
   "metadata": {
    "ExecuteTime": {
     "end_time": "2024-11-30T07:17:07.127006Z",
     "start_time": "2024-11-30T07:16:47.884969Z"
    }
   },
   "cell_type": "code",
   "source": [
    "conf = SparkConf().setAppName(\"Application name\")\n",
    "sc = SparkContext(conf=conf)"
   ],
   "id": "f11c4b7230b02a6e",
   "outputs": [],
   "execution_count": 2
  },
  {
   "metadata": {},
   "cell_type": "markdown",
   "source": [
    "## Difference between map and flatmap\n",
    "- **`map`**: Transforms each element of a collection into a new collection, preserving the structure.\n",
    "- **`flatMap`**: Transforms each element into a collection and then flattens the result into a single collection."
   ],
   "id": "6aac0c744aa389f2"
  },
  {
   "metadata": {
    "ExecuteTime": {
     "end_time": "2024-11-30T07:17:07.628764Z",
     "start_time": "2024-11-30T07:17:07.129025Z"
    }
   },
   "cell_type": "code",
   "source": [
    "names = [\n",
    "    \"Mohammad Al-Hennawi\",\n",
    "    \"Rafat Hammad\",\n",
    "    \"Cristiano ronaldo\"\n",
    "]\n",
    "# convert list to rdd\n",
    "rdd1 = sc.parallelize(names)\n",
    "rdd2 = sc.parallelize(names)"
   ],
   "id": "d5487dc6752b9adc",
   "outputs": [],
   "execution_count": 3
  },
  {
   "metadata": {
    "ExecuteTime": {
     "end_time": "2024-11-30T07:17:35.193231Z",
     "start_time": "2024-11-30T07:17:07.631697Z"
    }
   },
   "cell_type": "code",
   "source": [
    "map_list = rdd1.map(lambda x: x.split()).collect() # 2D array\n",
    "flatmap_list = rdd2.flatMap(lambda x: x.split()).collect() # 1D array"
   ],
   "id": "dc47ef612be9500f",
   "outputs": [],
   "execution_count": 4
  },
  {
   "metadata": {
    "ExecuteTime": {
     "end_time": "2024-11-30T07:17:35.202200Z",
     "start_time": "2024-11-30T07:17:35.195472Z"
    }
   },
   "cell_type": "code",
   "source": [
    "print('map', map_list)\n",
    "print('flatMap', flatmap_list)"
   ],
   "id": "bffd9b134f9207f9",
   "outputs": [
    {
     "name": "stdout",
     "output_type": "stream",
     "text": [
      "map [['Mohammad', 'Al-Hennawi'], ['Rafat', 'Hammad'], ['Cristiano', 'ronaldo']]\n",
      "flatMap ['Mohammad', 'Al-Hennawi', 'Rafat', 'Hammad', 'Cristiano', 'ronaldo']\n"
     ]
    }
   ],
   "execution_count": 5
  },
  {
   "metadata": {
    "ExecuteTime": {
     "end_time": "2024-11-30T07:17:47.178203Z",
     "start_time": "2024-11-30T07:17:35.204209Z"
    }
   },
   "cell_type": "code",
   "source": "rdd1.saveAsTextFile('output')",
   "id": "6a7c8a5f2268b2e8",
   "outputs": [],
   "execution_count": 6
  },
  {
   "metadata": {},
   "cell_type": "markdown",
   "source": [
    "### Output Folder:\n",
    "![Output Folder](images/ss1.png) \n",
    "\n",
    "The number of parts is 12 because my PC has 12 threads, so it could be different from PC to another"
   ],
   "id": "627cbdbddac76e68"
  },
  {
   "metadata": {},
   "cell_type": "markdown",
   "source": "### Word Count example",
   "id": "92fd4bd02bab1ae"
  },
  {
   "metadata": {
    "ExecuteTime": {
     "end_time": "2024-11-30T07:17:47.248199Z",
     "start_time": "2024-11-30T07:17:47.179214Z"
    }
   },
   "cell_type": "code",
   "source": [
    "file = sc.textFile(\"data/input_01.txt\", 4) # set the number of partitions\n",
    "print(file) # lazy reading of the text file"
   ],
   "id": "c443ae1f496ed5ca",
   "outputs": [
    {
     "name": "stdout",
     "output_type": "stream",
     "text": [
      "data/input_01.txt MapPartitionsRDD[8] at textFile at NativeMethodAccessorImpl.java:0\n"
     ]
    }
   ],
   "execution_count": 7
  },
  {
   "metadata": {
    "ExecuteTime": {
     "end_time": "2024-11-30T07:17:47.262468Z",
     "start_time": "2024-11-30T07:17:47.250207Z"
    }
   },
   "cell_type": "code",
   "source": [
    "lines = file.flatMap(lambda line: line.split())\n",
    "print(lines) # lazy transformation"
   ],
   "id": "6bcc8f0e9e7a4ce3",
   "outputs": [
    {
     "name": "stdout",
     "output_type": "stream",
     "text": [
      "PythonRDD[9] at RDD at PythonRDD.scala:53\n"
     ]
    }
   ],
   "execution_count": 8
  },
  {
   "metadata": {
    "ExecuteTime": {
     "end_time": "2024-11-30T07:17:47.276222Z",
     "start_time": "2024-11-30T07:17:47.264009Z"
    }
   },
   "cell_type": "code",
   "source": [
    "word = lines.map(lambda word: (word, 1))\n",
    "print(word) # lazy transformation"
   ],
   "id": "6975541bf718f91a",
   "outputs": [
    {
     "name": "stdout",
     "output_type": "stream",
     "text": [
      "PythonRDD[10] at RDD at PythonRDD.scala:53\n"
     ]
    }
   ],
   "execution_count": 9
  },
  {
   "metadata": {
    "ExecuteTime": {
     "end_time": "2024-11-30T07:17:47.369450Z",
     "start_time": "2024-11-30T07:17:47.280233Z"
    }
   },
   "cell_type": "code",
   "source": [
    "counts = word.reduceByKey(lambda a, b: a + b)\n",
    "print(counts) # lazy transformation"
   ],
   "id": "b0aee828d5b2db76",
   "outputs": [
    {
     "name": "stdout",
     "output_type": "stream",
     "text": [
      "PythonRDD[15] at RDD at PythonRDD.scala:53\n"
     ]
    }
   ],
   "execution_count": 10
  },
  {
   "metadata": {
    "ExecuteTime": {
     "end_time": "2024-11-30T07:17:55.990208Z",
     "start_time": "2024-11-30T07:17:47.371459Z"
    }
   },
   "cell_type": "code",
   "source": [
    "counts_list = counts.collect() # action\n",
    "print(counts_list[:6])\n",
    "\n",
    "# this cell takes most of the time because it starts the evaluation"
   ],
   "id": "fa875868c0767b5",
   "outputs": [
    {
     "name": "stdout",
     "output_type": "stream",
     "text": [
      "[('================================================================================', 2), ('to', 18), ('Foundation', 2), ('(ASF)', 1), ('under', 5), ('more', 3)]\n"
     ]
    }
   ],
   "execution_count": 11
  },
  {
   "metadata": {
    "ExecuteTime": {
     "end_time": "2024-11-30T07:18:00.132286Z",
     "start_time": "2024-11-30T07:17:55.992222Z"
    }
   },
   "cell_type": "code",
   "source": [
    "total_count = counts.map(lambda x: x[1]).reduce(lambda a, b: a + b) # reduce is the trigger here\n",
    "print(total_count)"
   ],
   "id": "f4e62bf6824578ba",
   "outputs": [
    {
     "name": "stdout",
     "output_type": "stream",
     "text": [
      "906\n"
     ]
    }
   ],
   "execution_count": 12
  },
  {
   "metadata": {
    "ExecuteTime": {
     "end_time": "2024-11-30T07:18:04.406206Z",
     "start_time": "2024-11-30T07:18:00.134823Z"
    }
   },
   "cell_type": "code",
   "source": "counts.saveAsTextFile('counts')",
   "id": "a462359375c091e5",
   "outputs": [],
   "execution_count": 13
  },
  {
   "metadata": {},
   "cell_type": "markdown",
   "source": [
    "## Counts Folder:\n",
    "![Counts Folder](images/ss2.png) \n",
    "\n",
    "The number of parts is four because I have set minPartitions to four"
   ],
   "id": "721991f69d2e5edd"
  },
  {
   "metadata": {},
   "cell_type": "markdown",
   "source": [
    "## Common Triggers (Actions) in PySpark\n",
    "\n",
    "In PySpark, actions are operations that trigger the actual execution of the computations on the dataset. Below are some commonly used actions:\n",
    "\n",
    "- **`collect()`**: Returns all the elements of the dataset as a list to the driver.\n",
    "- **`count()`**: Returns the number of elements in the dataset.\n",
    "- **`first()`**: Returns the first element of the dataset.\n",
    "- **`take(n)`**: Returns the first `n` elements of the dataset.\n",
    "- **`takeOrdered(n, key=None)`**: Returns the first `n` elements ordered by a specified key.\n",
    "- **`reduce()`**: Aggregates the elements of the dataset using an associative function.\n",
    "- **`foreach()`**: Applies a function to each element in the dataset, typically for side effects.\n",
    "- **`saveAsTextFile(path)`**: Writes the dataset to a text file at the specified path.\n",
    "- **`saveAsParquetFile(path)`**: Saves the dataset in Parquet format.\n",
    "- **`countByKey()`**: Returns the count of elements with each key in the dataset.\n",
    "- **`aggregate()`**: Aggregates the elements of the dataset with a combination of a zero value and an aggregate function.\n",
    "- **`isEmpty()`**: Returns `True` if the dataset is empty.\n",
    "- **`max()`**: Returns the maximum value in the dataset.\n",
    "- **`min()`**: Returns the minimum value in the dataset.\n",
    "- **`sum()`**: Returns the sum of all elements in the dataset.\n",
    "- **`mean()`**: Returns the mean (average) value of the dataset.\n",
    "- **`stdev()`**: Returns the standard deviation of the dataset.\n",
    "\n",
    "These actions trigger the execution of transformations and return results to the driver program."
   ],
   "id": "2ed5fa568069712b"
  },
  {
   "metadata": {
    "ExecuteTime": {
     "end_time": "2024-11-30T07:18:08.551712Z",
     "start_time": "2024-11-30T07:18:04.407218Z"
    }
   },
   "cell_type": "code",
   "source": "print(counts.count()) # prints number of distinct words",
   "id": "fee209e15ba4c525",
   "outputs": [
    {
     "name": "stdout",
     "output_type": "stream",
     "text": [
      "470\n"
     ]
    }
   ],
   "execution_count": 14
  },
  {
   "metadata": {
    "ExecuteTime": {
     "end_time": "2024-11-30T07:18:12.690171Z",
     "start_time": "2024-11-30T07:18:08.552232Z"
    }
   },
   "cell_type": "code",
   "source": "print(counts.takeOrdered(5, key=lambda x: -x[1])) # take the most 5 frequent words",
   "id": "db6961ca2176eeb0",
   "outputs": [
    {
     "name": "stdout",
     "output_type": "stream",
     "text": [
      "[('the', 46), ('*', 30), ('to', 18), ('and', 18), ('in', 18)]\n"
     ]
    }
   ],
   "execution_count": 15
  },
  {
   "metadata": {},
   "cell_type": "markdown",
   "source": [
    "# Example of Lineage Graph: Count of Bad Lines in a Log File\n",
    "\n",
    "A log file is a tracer of any action in a website or database. Fortunately, I have a website called **[PLogic](https://www.linkedin.com/posts/mohammad-al-hennawi-9856592b9_throughout-my-college-journey-in-data-activity-7253457852055379968-j0qz?utm_source=share&utm_medium=member_desktop)**, and it generates real log files. Below is a simple lineage graph:"
   ],
   "id": "abf3c25c2a7c4e84"
  },
  {
   "metadata": {},
   "cell_type": "markdown",
   "source": [
    "# DAG:\n",
    "\n",
    "<img src=\"images/DAG.png\" alt=\"DAG\">"
   ],
   "id": "238b9bbc24ab2de0"
  },
  {
   "metadata": {},
   "cell_type": "markdown",
   "source": [
    "# My Website Logs:\n",
    "\n",
    "<img src=\"images/ss3_1.png\" alt=\"LOGS\">"
   ],
   "id": "cd00d1fe4ad525d0"
  },
  {
   "metadata": {
    "ExecuteTime": {
     "end_time": "2024-11-30T07:18:12.719986Z",
     "start_time": "2024-11-30T07:18:12.691181Z"
    }
   },
   "cell_type": "code",
   "source": "log_file = sc.textFile(\"data/PlogicLogs.txt\")",
   "id": "73f16418b2c5809",
   "outputs": [],
   "execution_count": 16
  },
  {
   "metadata": {
    "ExecuteTime": {
     "end_time": "2024-11-30T07:18:12.725643Z",
     "start_time": "2024-11-30T07:18:12.720995Z"
    }
   },
   "cell_type": "code",
   "source": "log_lower = log_file.map(lambda line: line.lower()) # covert all letters to lower case",
   "id": "dd16259c6a760eb4",
   "outputs": [],
   "execution_count": 17
  },
  {
   "metadata": {
    "ExecuteTime": {
     "end_time": "2024-11-30T07:18:12.752646Z",
     "start_time": "2024-11-30T07:18:12.726652Z"
    }
   },
   "cell_type": "code",
   "source": [
    "# find if 'error' in the line (bad line) else returns -1 (good line)\n",
    "error_rdd = log_lower.filter(lambda line: line.find(\"error\") != -1)\n",
    " # find if 'waring' in the line (bad line) else returns -1 (good line)\n",
    "waring_rdd = log_lower.filter(lambda line: line.find(\"warning\") != -1)\n",
    "# combine two RDDs into one\n",
    "bad_rdd = waring_rdd.union(error_rdd)"
   ],
   "id": "bb79ca4e5704c14d",
   "outputs": [],
   "execution_count": 18
  },
  {
   "metadata": {
    "ExecuteTime": {
     "end_time": "2024-11-30T07:18:21.024927Z",
     "start_time": "2024-11-30T07:18:12.754163Z"
    }
   },
   "cell_type": "code",
   "source": "print(bad_rdd.count())",
   "id": "7d42e8b0c6204c90",
   "outputs": [
    {
     "name": "stdout",
     "output_type": "stream",
     "text": [
      "5\n"
     ]
    }
   ],
   "execution_count": 19
  },
  {
   "metadata": {
    "ExecuteTime": {
     "end_time": "2024-11-30T07:18:29.208421Z",
     "start_time": "2024-11-30T07:18:21.026938Z"
    }
   },
   "cell_type": "code",
   "source": "print(bad_rdd.take(3))",
   "id": "c16c03db2b1b87f2",
   "outputs": [
    {
     "name": "stdout",
     "output_type": "stream",
     "text": [
      "['2024-11-28 12:46:10,443 - warning - deprecated operation \\'&\\' used in expression \"a & b\". consider replacing with \\'&&\\'.', '2024-11-28 12:49:45,603 - warning - unsupported operation \"xor\" in expression \"a xor b\". consider replacing with \"^\".', '2024-11-28 12:47:32,122 - error - syntaxerror in evaluate_expression: unexpected end of input (sample request: {\"expression\": \"(a &\"}). expected: complete logical expression like \"(a & b)\".']\n"
     ]
    }
   ],
   "execution_count": 20
  },
  {
   "metadata": {
    "ExecuteTime": {
     "end_time": "2024-11-30T07:27:09.823011Z",
     "start_time": "2024-11-30T07:26:39.442661Z"
    }
   },
   "cell_type": "code",
   "source": [
    "# sorting bad lines by time, because each line starts with a date\n",
    "print(*bad_rdd.sortBy(lambda x: x[0]).collect(), sep=\"\\n\")"
   ],
   "id": "86d592b258bba11f",
   "outputs": [
    {
     "name": "stdout",
     "output_type": "stream",
     "text": [
      "2024-11-28 12:46:10,443 - warning - deprecated operation '&' used in expression \"a & b\". consider replacing with '&&'.\n",
      "2024-11-28 12:49:45,603 - warning - unsupported operation \"xor\" in expression \"a xor b\". consider replacing with \"^\".\n",
      "2024-11-28 12:47:32,122 - error - syntaxerror in evaluate_expression: unexpected end of input (sample request: {\"expression\": \"(a &\"}). expected: complete logical expression like \"(a & b)\".\n",
      "2024-11-28 12:49:45,605 - error - error in evaluate_expression: invalid operation 'xor' (sample request: {\"expression\": \"a xor b\"}).\n",
      "2024-11-28 12:51:10,113 - error - syntaxerror in evaluate_expression: missing closing parenthesis ')' (sample request: {\"expression\": \"a & (b | c\"}).\n"
     ]
    }
   ],
   "execution_count": 23
  },
  {
   "metadata": {},
   "cell_type": "markdown",
   "source": [
    "# Set-Like Operations in Spark\n",
    "\n",
    "Spark provides a variety of transformations that allow you to perform set-like operations on RDDs or DataFrames. These operations include `union`, `subtract`, `intersect`, `distinct`, and `cartesian`.\n",
    "\n",
    "These methods take other RRD as an argument"
   ],
   "id": "43e573f9138d5fec"
  },
  {
   "metadata": {},
   "cell_type": "markdown",
   "source": [
    "# Set Operations:\n",
    "<img src=\"images/so_1.png\">"
   ],
   "id": "e45035dfd8dec865"
  },
  {
   "metadata": {
    "ExecuteTime": {
     "end_time": "2024-11-30T08:00:27.797416Z",
     "start_time": "2024-11-30T08:00:27.706108Z"
    }
   },
   "cell_type": "code",
   "source": [
    "# I have set numSlices to 2, because 12 threads take too much time\n",
    "a = sc.parallelize([1, 2, 3, 4, 4], 2)\n",
    "b = sc.parallelize([3, 4, 5, 6], 2)\n",
    "\n",
    "result = a.union(b)\n",
    "print(result.collect())\n",
    "# it can have duplicates"
   ],
   "id": "e176a44955210084",
   "outputs": [
    {
     "name": "stdout",
     "output_type": "stream",
     "text": [
      "[1, 2, 3, 4, 4, 3, 4, 5, 6]\n"
     ]
    }
   ],
   "execution_count": 40
  },
  {
   "metadata": {
    "ExecuteTime": {
     "end_time": "2024-11-30T08:00:40.818979Z",
     "start_time": "2024-11-30T08:00:28.927842Z"
    }
   },
   "cell_type": "code",
   "source": [
    "result = a.intersection(b)\n",
    "print(result.collect())"
   ],
   "id": "df59bbec4ff529cd",
   "outputs": [
    {
     "name": "stdout",
     "output_type": "stream",
     "text": [
      "[4, 3]\n"
     ]
    }
   ],
   "execution_count": 41
  },
  {
   "metadata": {
    "ExecuteTime": {
     "end_time": "2024-11-30T08:00:59.445863Z",
     "start_time": "2024-11-30T08:00:46.761251Z"
    }
   },
   "cell_type": "code",
   "source": [
    "result = a.subtract(b)\n",
    "print(result.collect())"
   ],
   "id": "6fab14ad1383a62c",
   "outputs": [
    {
     "name": "stdout",
     "output_type": "stream",
     "text": [
      "[1, 2]\n"
     ]
    }
   ],
   "execution_count": 42
  },
  {
   "metadata": {
    "ExecuteTime": {
     "end_time": "2024-11-30T08:00:59.547170Z",
     "start_time": "2024-11-30T08:00:59.448876Z"
    }
   },
   "cell_type": "code",
   "source": [
    "a = sc.parallelize(['a', 'b'])\n",
    "b = sc.parallelize([1, 2])\n",
    "\n",
    "result = a.cartesian(b)\n",
    "print(result.collect())"
   ],
   "id": "15adfbd61b05d681",
   "outputs": [
    {
     "name": "stdout",
     "output_type": "stream",
     "text": [
      "[('a', 1), ('a', 2), ('b', 1), ('b', 2)]\n"
     ]
    }
   ],
   "execution_count": 43
  },
  {
   "metadata": {},
   "cell_type": "markdown",
   "source": [
    "# Method Chaining in Spark\n",
    "\n",
    "**Method chaining** is a common programming pattern used in Spark (and many other frameworks) where multiple operations or transformations are called sequentially on an object, making the code more concise and readable.\n",
    "\n",
    "In Spark, method chaining allows you to perform multiple transformations or actions on an RDD or DataFrame in a single statement.\n",
    "\n",
    "---\n",
    "\n",
    "## Benefits of Method Chaining\n",
    "\n",
    "1. **Conciseness**: Reduces the amount of code by chaining multiple operations in one line.\n",
    "2. **Readability**: Makes the code flow like a pipeline, showcasing the transformations in order.\n",
    "3. **Efficiency**: Helps in maintaining the immutability of RDDs or DataFrames and reduces intermediate variables."
   ],
   "id": "95abfe1159b080ae"
  },
  {
   "metadata": {
    "ExecuteTime": {
     "end_time": "2024-11-30T08:14:51.433138Z",
     "start_time": "2024-11-30T08:14:43.005145Z"
    }
   },
   "cell_type": "code",
   "source": [
    "a = sc.parallelize([1, 2, 3, 4, 4], 2)\n",
    "b = sc.parallelize([3, 4, 5, 6], 2)\n",
    "\n",
    "most_common_element = a.union(b)\\\n",
    "    .map(lambda num: (num, 1))\\\n",
    "    .reduceByKey(lambda a, b: a + b)\\\n",
    "    .max(lambda x: x[1])\n",
    "\n",
    "print(most_common_element)"
   ],
   "id": "e571dba47ee223b7",
   "outputs": [
    {
     "name": "stdout",
     "output_type": "stream",
     "text": [
      "(4, 3)\n"
     ]
    }
   ],
   "execution_count": 54
  },
  {
   "metadata": {},
   "cell_type": "markdown",
   "source": [
    "# Solving the Nearest Point (POI) in Spark:\n",
    "Using method chaining"
   ],
   "id": "1bf8789c88052f9f"
  },
  {
   "metadata": {
    "ExecuteTime": {
     "end_time": "2024-11-30T08:23:50.208423Z",
     "start_time": "2024-11-30T08:23:50.201424Z"
    }
   },
   "cell_type": "code",
   "source": [
    "from math import sqrt\n",
    "\n",
    "hospitals_locations = [\n",
    "    (15, 10),(-5, 12),(22, -4),(10, -1), (18, 21),\n",
    "    (-8, -10),(30, 3),(5, 17),(13, 14),(16, -7),\n",
    "    (1, 11),(20, -5),(6, 8),(-2, 19),(24, 22),\n",
    "    (9, 0),(7, 6),(11, 15),(19, 13),(-3, 16),\n",
    "]\n",
    "user_location = 9, 18\n",
    "\n",
    "euclidean_distance = lambda point: sqrt((point[0] - user_location[0]) ** 2 + (point[1] - user_location[1]) ** 2)"
   ],
   "id": "427c9142a18ac4eb",
   "outputs": [],
   "execution_count": 58
  },
  {
   "metadata": {
    "ExecuteTime": {
     "end_time": "2024-11-30T08:35:05.025927Z",
     "start_time": "2024-11-30T08:34:41.990494Z"
    }
   },
   "cell_type": "code",
   "source": [
    "nearest_hospital = sc.parallelize(hospitals_locations)\\\n",
    "    .zipWithIndex()\\\n",
    "    .map(lambda x: (euclidean_distance(x[0]), x[1]))\\\n",
    "    .min(lambda x: x[0])\n",
    "\n",
    "print(nearest_hospital)"
   ],
   "id": "445f4636a714a972",
   "outputs": [
    {
     "name": "stdout",
     "output_type": "stream",
     "text": [
      "(3.605551275463989, 17)\n"
     ]
    }
   ],
   "execution_count": 72
  },
  {
   "metadata": {
    "ExecuteTime": {
     "end_time": "2024-11-30T08:36:33.731381Z",
     "start_time": "2024-11-30T08:36:32.499038Z"
    }
   },
   "cell_type": "code",
   "source": [
    "# zipWithIndex example\n",
    "rdd = sc.parallelize(['a', 'b', 'm', 'h'], 1)\n",
    "print(rdd.zipWithIndex().collect())"
   ],
   "id": "8b2b173bbdc29947",
   "outputs": [
    {
     "name": "stdout",
     "output_type": "stream",
     "text": [
      "[('a', 0), ('b', 1), ('m', 2), ('h', 3)]\n"
     ]
    }
   ],
   "execution_count": 74
  },
  {
   "metadata": {
    "ExecuteTime": {
     "end_time": "2024-11-30T08:35:08.536682Z",
     "start_time": "2024-11-30T08:35:08.286044Z"
    }
   },
   "cell_type": "code",
   "source": [
    "import matplotlib.pyplot as plt\n",
    "\n",
    "plt.scatter(*zip(*hospitals_locations), label='Hospitals')\n",
    "plt.scatter(*user_location, label='User', color='red', marker='x')\n",
    "plt.scatter(*hospitals_locations[nearest_hospital[1]], label='Nearest Hospital', color='green')\n",
    "plt.xlabel('X')\n",
    "plt.ylabel('Y')\n",
    "plt.xlim(-11, 30)\n",
    "plt.ylim(-11, 30)\n",
    "plt.title('Hospital and User Locations')\n",
    "plt.legend()\n",
    "plt.show()"
   ],
   "id": "a4705ba67dd01fbb",
   "outputs": [
    {
     "data": {
      "text/plain": [
       "<Figure size 640x480 with 1 Axes>"
      ],
      "image/png": "[encoded data removed]"
     },
     "metadata": {},
     "output_type": "display_data"
    }
   ],
   "execution_count": 73
  },
  {
   "metadata": {},
   "cell_type": "code",
   "outputs": [],
   "execution_count": null,
   "source": "",
   "id": "6bf6ca3fc69fb701"
  }
 ],
 "metadata": {
  "kernelspec": {
   "display_name": "Python 3",
   "language": "python",
   "name": "python3"
  },
  "language_info": {
   "codemirror_mode": {
    "name": "ipython",
    "version": 2
   },
   "file_extension": ".py",
   "mimetype": "text/x-python",
   "name": "python",
   "nbconvert_exporter": "python",
   "pygments_lexer": "ipython2",
   "version": "2.7.6"
  }
 },
 "nbformat": 4,
 "nbformat_minor": 5
}
